{
  "nbformat": 4,
  "nbformat_minor": 0,
  "metadata": {
    "colab": {
      "name": "Copy of Untitled4.ipynb",
      "provenance": [],
      "mount_file_id": "1POGjQlHS-RHcX2mbouJDGHr8f7BjyMVK",
      "authorship_tag": "ABX9TyNZCZpCe0NKGDNdynAXF1gZ",
      "include_colab_link": true
    },
    "kernelspec": {
      "name": "python3",
      "display_name": "Python 3"
    },
    "language_info": {
      "name": "python"
    }
  },
  "cells": [
    {
      "cell_type": "markdown",
      "metadata": {
        "id": "view-in-github",
        "colab_type": "text"
      },
      "source": [
        "<a href=\"https://colab.research.google.com/github/gita922/demo/blob/main/Copy_of_Untitled4.ipynb\" target=\"_parent\"><img src=\"https://colab.research.google.com/assets/colab-badge.svg\" alt=\"Open In Colab\"/></a>"
      ]
    },
    {
      "cell_type": "code",
      "metadata": {
        "id": "Ywsp-w5eoc8_"
      },
      "source": [
        ""
      ],
      "execution_count": null,
      "outputs": []
    },
    {
      "cell_type": "markdown",
      "metadata": {
        "id": "XUkZbp0qon9v"
      },
      "source": [
        "# New Section"
      ]
    },
    {
      "cell_type": "code",
      "metadata": {
        "id": "WNiHtHHqo90M"
      },
      "source": [
        "import numpy as np\n",
        "import pandas as pd\n"
      ],
      "execution_count": null,
      "outputs": []
    },
    {
      "cell_type": "code",
      "metadata": {
        "id": "HisbBxZIpC4O"
      },
      "source": [
        "whisky=pd.read_csv(\"/content/drive/MyDrive/data/whiskies.txt\")"
      ],
      "execution_count": null,
      "outputs": []
    },
    {
      "cell_type": "code",
      "metadata": {
        "id": "ZWfRIl_iplJf"
      },
      "source": [
        "whisky[\"Region\"]=pd.read_csv(\"/content/drive/MyDrive/data/regions.txt\")"
      ],
      "execution_count": null,
      "outputs": []
    },
    {
      "cell_type": "code",
      "metadata": {
        "colab": {
          "base_uri": "https://localhost:8080/"
        },
        "id": "Iemnv48GvSPH",
        "outputId": "610bb645-db4a-4d70-ac41-da1c43a12a9a"
      },
      "source": [
        "flavors = whisky.iloc[:, 2:14]\n",
        "corr_whisky = pd.DataFrame.corr(flavors.transpose())\n",
        "\n",
        "from sklearn.cluster.bicluster import SpectralCoclustering\n",
        "\n",
        "model = SpectralCoclustering(n_clusters=6, random_state=0)\n",
        "model.fit(corr_whisky)\n",
        "whisky['Group'] = pd.Series(model.row_labels_, index=whisky.index) # extract group labels from model and append to whisky table\n",
        "whisky = whisky.iloc[np.argsort(model.row_labels_)] # reorder rows by group labels\n",
        "whisky = whisky.reset_index(drop=True) # reset index of the DataFrame\n",
        "\n",
        "correlations = pd.DataFrame.corr(whisky.iloc[:, 2:14].transpose())\n",
        "correlations = np.array(correlations)\n",
        "correlations"
      ],
      "execution_count": null,
      "outputs": [
        {
          "output_type": "execute_result",
          "data": {
            "text/plain": [
              "array([[ 1.        ,  0.70502399,  0.51961524, ...,  0.25      ,\n",
              "         0.0326164 ,  0.38729833],\n",
              "       [ 0.70502399,  1.        ,  0.56360186, ...,  0.05423261,\n",
              "        -0.03537746,  0.42008403],\n",
              "       [ 0.51961524,  0.56360186,  1.        , ...,  0.34641016,\n",
              "         0.22597307,  0.4472136 ],\n",
              "       ...,\n",
              "       [ 0.25      ,  0.05423261,  0.34641016, ...,  1.        ,\n",
              "         0.81541009,  0.77459667],\n",
              "       [ 0.0326164 , -0.03537746,  0.22597307, ...,  0.81541009,\n",
              "         1.        ,  0.63161394],\n",
              "       [ 0.38729833,  0.42008403,  0.4472136 , ...,  0.77459667,\n",
              "         0.63161394,  1.        ]])"
            ]
          },
          "metadata": {
            "tags": []
          },
          "execution_count": 11
        }
      ]
    },
    {
      "cell_type": "code",
      "metadata": {
        "colab": {
          "base_uri": "https://localhost:8080/"
        },
        "id": "ojW4cyXhvmj-",
        "outputId": "cf53605e-c062-4712-fce9-543e3afe85bc"
      },
      "source": [
        "cluster_colors = [\"red\", \"orange\", \"green\", \"blue\", \"purple\", \"gray\"]\n",
        "regions = [\"Speyside\", \"Highlands\", \"Lowlands\", \"Islands\", \"Campbelltown\", \"Islay\"]\n",
        "\n",
        "region_colors = dict(zip(regions, cluster_colors))\n",
        "print(region_colors)"
      ],
      "execution_count": null,
      "outputs": [
        {
          "output_type": "stream",
          "text": [
            "{'Speyside': 'red', 'Highlands': 'orange', 'Lowlands': 'green', 'Islands': 'blue', 'Campbelltown': 'purple', 'Islay': 'gray'}\n"
          ],
          "name": "stdout"
        }
      ]
    },
    {
      "cell_type": "code",
      "metadata": {
        "id": "_O5tBVLrvac6"
      },
      "source": [
        "distilleries = list(whisky.Distillery)\n",
        "correlation_colors = []\n",
        "for i in range(len(distilleries)):\n",
        "    for j in range(len(distilleries)):\n",
        "        if correlations[j, i] < 0.7:                     # if low correlation,\n",
        "            correlation_colors.append('white')         # just use white.\n",
        "        else:                                          # otherwise,\n",
        "            if whisky.Group[i] == whisky.Group[j]:                 # if the groups match,\n",
        "                correlation_colors.append(cluster_colors[whisky.Group[i]]) # color them by their mutual group.\n",
        "            else:                                      # otherwise\n",
        "                correlation_colors.append('lightgray') # color them lightgray."
      ],
      "execution_count": null,
      "outputs": []
    },
    {
      "cell_type": "code",
      "metadata": {
        "id": "WPf0nVxbx10I"
      },
      "source": [
        "distilleries = list(whisky.Distillery)\n",
        "correlation_colors = []\n",
        "for i in range(len(distilleries)):\n",
        "    for j in range(len(distilleries)):\n",
        "        if correlations[j, i] < 0.7:                     # if low correlation,\n",
        "            correlation_colors.append('white')         # just use white.\n",
        "        else:                                          # otherwise,\n",
        "            if whisky.Group[i] == whisky.Group[j]:                 # if the groups match,\n",
        "                correlation_colors.append(cluster_colors[whisky.Group[i]]) # color them by their mutual group.\n",
        "            else:                                      # otherwise\n",
        "                correlation_colors.append('lightgray') # color them lightgray."
      ],
      "execution_count": null,
      "outputs": []
    },
    {
      "cell_type": "code",
      "metadata": {
        "colab": {
          "base_uri": "https://localhost:8080/",
          "height": 231
        },
        "id": "Cx_u7Kufx3gu",
        "outputId": "ad2dfce2-6299-4fe1-f7ed-123d8cd5ba05"
      },
      "source": [
        "source = ColumnDataSource(\n",
        "    data = {\n",
        "        \"x\": np.repeat(distilleries,len(distilleries)),\n",
        "        \"y\": list(distilleries)*len(distilleries),\n",
        "        \"colors\": correlation_colors,\n",
        "        \"alphas\": correlations.flatten(),\n",
        "        \"correlations\": correlations.flatten(),\n",
        "    }\n",
        ")\n",
        "\n",
        "output_file(\"Whisky Correlations.html\", title=\"Whisky Correlations\")\n",
        "fig = figure(title=\"Whisky Correlations\",\n",
        "    x_axis_location=\"above\", tools=\"resize,hover,save\",\n",
        "    x_range=list(reversed(distilleries)), y_range=distilleries)\n",
        "fig.grid.grid_line_color = None\n",
        "fig.axis.axis_line_color = None\n",
        "fig.axis.major_tick_line_color = None\n",
        "fig.axis.major_label_text_font_size = \"5pt\"\n",
        "fig.xaxis.major_label_orientation = np.pi / 3\n",
        "\n",
        "fig.rect('x', 'y', .9, .9, source=source,\n",
        "     color='colors', alpha='alphas')\n",
        "hover = fig.select(dict(type=HoverTool))\n",
        "hover.tooltips = {\n",
        "    \"Whiskies\": \"@x, @y\",\n",
        "    \"Correlation\": \"@correlations\",\n",
        "}\n",
        "output_notebook()\n",
        "show(fig)"
      ],
      "execution_count": null,
      "outputs": [
        {
          "output_type": "error",
          "ename": "NameError",
          "evalue": "ignored",
          "traceback": [
            "\u001b[0;31m---------------------------------------------------------------------------\u001b[0m",
            "\u001b[0;31mNameError\u001b[0m                                 Traceback (most recent call last)",
            "\u001b[0;32m<ipython-input-24-5f53764603de>\u001b[0m in \u001b[0;36m<module>\u001b[0;34m()\u001b[0m\n\u001b[0;32m----> 1\u001b[0;31m source = ColumnDataSource(\n\u001b[0m\u001b[1;32m      2\u001b[0m     data = {\n\u001b[1;32m      3\u001b[0m         \u001b[0;34m\"x\"\u001b[0m\u001b[0;34m:\u001b[0m \u001b[0mnp\u001b[0m\u001b[0;34m.\u001b[0m\u001b[0mrepeat\u001b[0m\u001b[0;34m(\u001b[0m\u001b[0mdistilleries\u001b[0m\u001b[0;34m,\u001b[0m\u001b[0mlen\u001b[0m\u001b[0;34m(\u001b[0m\u001b[0mdistilleries\u001b[0m\u001b[0;34m)\u001b[0m\u001b[0;34m)\u001b[0m\u001b[0;34m,\u001b[0m\u001b[0;34m\u001b[0m\u001b[0;34m\u001b[0m\u001b[0m\n\u001b[1;32m      4\u001b[0m         \u001b[0;34m\"y\"\u001b[0m\u001b[0;34m:\u001b[0m \u001b[0mlist\u001b[0m\u001b[0;34m(\u001b[0m\u001b[0mdistilleries\u001b[0m\u001b[0;34m)\u001b[0m\u001b[0;34m*\u001b[0m\u001b[0mlen\u001b[0m\u001b[0;34m(\u001b[0m\u001b[0mdistilleries\u001b[0m\u001b[0;34m)\u001b[0m\u001b[0;34m,\u001b[0m\u001b[0;34m\u001b[0m\u001b[0;34m\u001b[0m\u001b[0m\n\u001b[1;32m      5\u001b[0m         \u001b[0;34m\"colors\"\u001b[0m\u001b[0;34m:\u001b[0m \u001b[0mcorrelation_colors\u001b[0m\u001b[0;34m,\u001b[0m\u001b[0;34m\u001b[0m\u001b[0;34m\u001b[0m\u001b[0m\n",
            "\u001b[0;31mNameError\u001b[0m: name 'ColumnDataSource' is not defined"
          ]
        }
      ]
    },
    {
      "cell_type": "code",
      "metadata": {
        "colab": {
          "base_uri": "https://localhost:8080/",
          "height": 231
        },
        "id": "pFljc96ywLBh",
        "outputId": "73d09b4b-e96b-4fd6-91af-211330dc71b0"
      },
      "source": [
        "points = [(0,0), (1,2), (3,1)]\n",
        "xs, ys = zip(*points)\n",
        "colors = [\"red\", \"blue\", \"green\"]\n",
        "\n",
        "#output_file(\"Spatial_Example.html\", title=\"Regional Example\")\n",
        "location_source = ColumnDataSource(\n",
        "    data={\n",
        "        \"x\": xs,\n",
        "        \"y\": ys,\n",
        "        \"colors\": colors,\n",
        "    }\n",
        ")\n",
        "\n",
        "fig = figure(title = \"Title\",\n",
        "    x_axis_location = \"above\", tools=\"resize, hover, save\")\n",
        "fig.plot_width  = 300\n",
        "fig.plot_height = 380\n",
        "fig.circle(\"x\", \"y\", 10, 10, size=10, source=location_source,\n",
        "     color='colors', line_color = None)\n",
        "\n",
        "hover = fig.select(dict(type = HoverTool))\n",
        "hover.tooltips = {\n",
        "    \"Location\": \"(@x, @y)\"\n",
        "}\n",
        "output_notebook()\n",
        "show(fig)"
      ],
      "execution_count": null,
      "outputs": [
        {
          "output_type": "error",
          "ename": "NameError",
          "evalue": "ignored",
          "traceback": [
            "\u001b[0;31m---------------------------------------------------------------------------\u001b[0m",
            "\u001b[0;31mNameError\u001b[0m                                 Traceback (most recent call last)",
            "\u001b[0;32m<ipython-input-22-ef5ae55f45f6>\u001b[0m in \u001b[0;36m<module>\u001b[0;34m()\u001b[0m\n\u001b[1;32m      4\u001b[0m \u001b[0;34m\u001b[0m\u001b[0m\n\u001b[1;32m      5\u001b[0m \u001b[0;31m#output_file(\"Spatial_Example.html\", title=\"Regional Example\")\u001b[0m\u001b[0;34m\u001b[0m\u001b[0;34m\u001b[0m\u001b[0;34m\u001b[0m\u001b[0m\n\u001b[0;32m----> 6\u001b[0;31m location_source = ColumnDataSource(\n\u001b[0m\u001b[1;32m      7\u001b[0m     data={\n\u001b[1;32m      8\u001b[0m         \u001b[0;34m\"x\"\u001b[0m\u001b[0;34m:\u001b[0m \u001b[0mxs\u001b[0m\u001b[0;34m,\u001b[0m\u001b[0;34m\u001b[0m\u001b[0;34m\u001b[0m\u001b[0m\n",
            "\u001b[0;31mNameError\u001b[0m: name 'ColumnDataSource' is not defined"
          ]
        }
      ]
    },
    {
      "cell_type": "code",
      "metadata": {
        "colab": {
          "base_uri": "https://localhost:8080/",
          "height": 231
        },
        "id": "9RGHxZvC0FNI",
        "outputId": "421a4235-295a-41ed-d4c7-fdf3e311001d"
      },
      "source": [
        "source = ColumnDataSource(\n",
        "    data={\n",
        "        \"x\": xs,\n",
        "        \"y\": ys,\n",
        "        \"colors\": colors,\n",
        "        \"alphas\": alphas,\n",
        "    }\n",
        ")"
      ],
      "execution_count": null,
      "outputs": [
        {
          "output_type": "error",
          "ename": "NameError",
          "evalue": "ignored",
          "traceback": [
            "\u001b[0;31m---------------------------------------------------------------------------\u001b[0m",
            "\u001b[0;31mNameError\u001b[0m                                 Traceback (most recent call last)",
            "\u001b[0;32m<ipython-input-27-5a962a18a975>\u001b[0m in \u001b[0;36m<module>\u001b[0;34m()\u001b[0m\n\u001b[0;32m----> 1\u001b[0;31m source = ColumnDataSource(\n\u001b[0m\u001b[1;32m      2\u001b[0m     data={\n\u001b[1;32m      3\u001b[0m         \u001b[0;34m\"x\"\u001b[0m\u001b[0;34m:\u001b[0m \u001b[0mxs\u001b[0m\u001b[0;34m,\u001b[0m\u001b[0;34m\u001b[0m\u001b[0;34m\u001b[0m\u001b[0m\n\u001b[1;32m      4\u001b[0m         \u001b[0;34m\"y\"\u001b[0m\u001b[0;34m:\u001b[0m \u001b[0mys\u001b[0m\u001b[0;34m,\u001b[0m\u001b[0;34m\u001b[0m\u001b[0;34m\u001b[0m\u001b[0m\n\u001b[1;32m      5\u001b[0m         \u001b[0;34m\"colors\"\u001b[0m\u001b[0;34m:\u001b[0m \u001b[0mcolors\u001b[0m\u001b[0;34m,\u001b[0m\u001b[0;34m\u001b[0m\u001b[0;34m\u001b[0m\u001b[0m\n",
            "\u001b[0;31mNameError\u001b[0m: name 'ColumnDataSource' is not defined"
          ]
        }
      ]
    },
    {
      "cell_type": "code",
      "metadata": {
        "id": "VJ3F9kmw0Olb"
      },
      "source": [
        "from bokeh.models import HoverTool, ColumnDataSource\n",
        "from bokeh.plotting import *\n",
        "import numpy as np\n"
      ],
      "execution_count": null,
      "outputs": []
    },
    {
      "cell_type": "code",
      "metadata": {
        "colab": {
          "base_uri": "https://localhost:8080/",
          "height": 129
        },
        "id": "XF_m9oIRqAcH",
        "outputId": "069effe6-bccc-4cc7-f11d-ea89085c16d9"
      },
      "source": [
        "def location_plot(title, colors):\n",
        "    \n",
        "output_file(title+\".html\")\n",
        "    location_source = ColumnDataSource(\n",
        "        data={\n",
        "            \"x\": whisky[\" Latitude\"],\n",
        "            \"y\": whisky[\" Longitude\"],\n",
        "            \"colors\": colors,\n",
        "            \"regions\": whisky.Region,\n",
        "            \"distilleries\": whisky.Distillery\n",
        "        }\n",
        "    )\n",
        "    \n",
        "    fig = figure(title = title,\n",
        "        x_axis_location = \"above\", tools=\"resize, hover, save\")\n",
        "    fig.plot_width  = 400\n",
        "    fig.plot_height = 500\n",
        "    fig.circle(\"x\", \"y\", 10, 10, size=9, source=location_source,\n",
        "         color='colors', line_color = None)\n",
        "    fig.xaxis.major_label_orientation = np.pi / 3\n",
        "    hover = fig.select(dict(type = HoverTool))\n",
        "    hover.tooltips = {\n",
        "        \"Distillery\": \"@distilleries\",\n",
        "        \"Location\": \"(@x, @y)\"\n",
        "    }\n",
        "    show(fig)\n",
        "\n",
        "corr_flavors = [region_colors[i] for i in list(whisky[\"Region\"])]\n",
        "location_plot(\"Whisky Locations and Regions\", region_cols)"
      ],
      "execution_count": null,
      "outputs": [
        {
          "output_type": "error",
          "ename": "IndentationError",
          "evalue": "ignored",
          "traceback": [
            "\u001b[0;36m  File \u001b[0;32m\"<ipython-input-29-09971d3b8db7>\"\u001b[0;36m, line \u001b[0;32m3\u001b[0m\n\u001b[0;31m    output_file(title+\".html\")\u001b[0m\n\u001b[0m              ^\u001b[0m\n\u001b[0;31mIndentationError\u001b[0m\u001b[0;31m:\u001b[0m expected an indented block\n"
          ]
        }
      ]
    },
    {
      "cell_type": "code",
      "metadata": {
        "id": "m48VFSgTzUIG"
      },
      "source": [
        "source = ColumnDataSource(\n",
        "    data = {\n",
        "        \"x\": np.repeat(distilleries,len(distilleries)),\n",
        "        \"y\": list(distilleries)*len(distilleries),\n",
        "        \"colors\": correlation_colors,\n",
        "        \"alphas\": correlations.flatten(),\n",
        "        \"correlations\": correlations.flatten(),\n",
        "    }\n",
        ")\n",
        "\n",
        "output_file(\"Whisky Correlations.html\", title=\"Whisky Correlations\")\n",
        "fig = figure(title=\"Whisky Correlations\",\n",
        "    x_axis_location=\"above\", x_range=list(reversed(distilleries)), y_range=distilleries,\n",
        "    tools=\"hover,box_zoom,reset\")\n",
        "fig.grid.grid_line_color = None\n",
        "fig.axis.axis_line_color = None\n",
        "fig.axis.major_tick_line_color = None\n",
        "fig.axis.major_label_text_font_size = \"5pt\"\n",
        "fig.xaxis.major_label_orientation = np.pi / 3\n",
        "fig.rect('x', 'y', .9, .9, source=source,\n",
        "     color='colors', alpha='correlations')\n",
        "hover = fig.select(dict(type=HoverTool))\n",
        "hover.tooltips = {\n",
        "    \"Whiskies\": \"@x, @y\",\n",
        "    \"Correlation\": \"@correlations\",\n",
        "}\n",
        "show(fig)\n"
      ],
      "execution_count": null,
      "outputs": []
    },
    {
      "cell_type": "code",
      "metadata": {
        "colab": {
          "base_uri": "https://localhost:8080/",
          "height": 17
        },
        "id": "pyVWFdZS0jOe",
        "outputId": "5449aa26-62cb-4fc5-ec3c-ad2efec893e0"
      },
      "source": [
        "def location_plot(title, colors):\n",
        "    output_file(title+\".html\")\n",
        "    location_source = ColumnDataSource(\n",
        "        data={\n",
        "            \"x\": whisky[\" Latitude\"],\n",
        "            \"y\": whisky[\" Longitude\"],\n",
        "            \"colors\": colors,\n",
        "            \"regions\": whisky.Region,\n",
        "            \"distilleries\": whisky.Distillery\n",
        "        }\n",
        "    )\n",
        "    \n",
        "    fig = figure(title = title,\n",
        "        x_axis_location = \"above\", tools=\"reset, hover, save\")\n",
        "    fig.plot_width  = 400\n",
        "    fig.plot_height = 500\n",
        "    fig.circle(\"x\", \"y\", size=9, source=location_source, color='colors', line_color = None)\n",
        "    fig.xaxis.major_label_orientation = np.pi / 3\n",
        "    hover = fig.select(dict(type = HoverTool))\n",
        "    hover.tooltips = {\n",
        "        \"Distillery\": \"@distilleries\",\n",
        "        \"Location\": \"(@x, @y)\"\n",
        "    }\n",
        "    output_notebook()\n",
        "    show(fig)\n",
        "\n",
        "region_cols = [region_colors[region] for region in list(whisky.Region)]\n",
        "location_plot(\"Whisky Locations and Regions\", region_cols)"
      ],
      "execution_count": null,
      "outputs": [
        {
          "output_type": "display_data",
          "data": {
            "application/javascript": [
              "\n",
              "(function(root) {\n",
              "  function now() {\n",
              "    return new Date();\n",
              "  }\n",
              "\n",
              "  var force = true;\n",
              "\n",
              "  if (typeof root._bokeh_onload_callbacks === \"undefined\" || force === true) {\n",
              "    root._bokeh_onload_callbacks = [];\n",
              "    root._bokeh_is_loading = undefined;\n",
              "  }\n",
              "\n",
              "  var JS_MIME_TYPE = 'application/javascript';\n",
              "  var HTML_MIME_TYPE = 'text/html';\n",
              "  var EXEC_MIME_TYPE = 'application/vnd.bokehjs_exec.v0+json';\n",
              "  var CLASS_NAME = 'output_bokeh rendered_html';\n",
              "\n",
              "  /**\n",
              "   * Render data to the DOM node\n",
              "   */\n",
              "  function render(props, node) {\n",
              "    var script = document.createElement(\"script\");\n",
              "    node.appendChild(script);\n",
              "  }\n",
              "\n",
              "  /**\n",
              "   * Handle when an output is cleared or removed\n",
              "   */\n",
              "  function handleClearOutput(event, handle) {\n",
              "    var cell = handle.cell;\n",
              "\n",
              "    var id = cell.output_area._bokeh_element_id;\n",
              "    var server_id = cell.output_area._bokeh_server_id;\n",
              "    // Clean up Bokeh references\n",
              "    if (id != null && id in Bokeh.index) {\n",
              "      Bokeh.index[id].model.document.clear();\n",
              "      delete Bokeh.index[id];\n",
              "    }\n",
              "\n",
              "    if (server_id !== undefined) {\n",
              "      // Clean up Bokeh references\n",
              "      var cmd = \"from bokeh.io.state import curstate; print(curstate().uuid_to_server['\" + server_id + \"'].get_sessions()[0].document.roots[0]._id)\";\n",
              "      cell.notebook.kernel.execute(cmd, {\n",
              "        iopub: {\n",
              "          output: function(msg) {\n",
              "            var id = msg.content.text.trim();\n",
              "            if (id in Bokeh.index) {\n",
              "              Bokeh.index[id].model.document.clear();\n",
              "              delete Bokeh.index[id];\n",
              "            }\n",
              "          }\n",
              "        }\n",
              "      });\n",
              "      // Destroy server and session\n",
              "      var cmd = \"import bokeh.io.notebook as ion; ion.destroy_server('\" + server_id + \"')\";\n",
              "      cell.notebook.kernel.execute(cmd);\n",
              "    }\n",
              "  }\n",
              "\n",
              "  /**\n",
              "   * Handle when a new output is added\n",
              "   */\n",
              "  function handleAddOutput(event, handle) {\n",
              "    var output_area = handle.output_area;\n",
              "    var output = handle.output;\n",
              "\n",
              "    // limit handleAddOutput to display_data with EXEC_MIME_TYPE content only\n",
              "    if ((output.output_type != \"display_data\") || (!Object.prototype.hasOwnProperty.call(output.data, EXEC_MIME_TYPE))) {\n",
              "      return\n",
              "    }\n",
              "\n",
              "    var toinsert = output_area.element.find(\".\" + CLASS_NAME.split(' ')[0]);\n",
              "\n",
              "    if (output.metadata[EXEC_MIME_TYPE][\"id\"] !== undefined) {\n",
              "      toinsert[toinsert.length - 1].firstChild.textContent = output.data[JS_MIME_TYPE];\n",
              "      // store reference to embed id on output_area\n",
              "      output_area._bokeh_element_id = output.metadata[EXEC_MIME_TYPE][\"id\"];\n",
              "    }\n",
              "    if (output.metadata[EXEC_MIME_TYPE][\"server_id\"] !== undefined) {\n",
              "      var bk_div = document.createElement(\"div\");\n",
              "      bk_div.innerHTML = output.data[HTML_MIME_TYPE];\n",
              "      var script_attrs = bk_div.children[0].attributes;\n",
              "      for (var i = 0; i < script_attrs.length; i++) {\n",
              "        toinsert[toinsert.length - 1].firstChild.setAttribute(script_attrs[i].name, script_attrs[i].value);\n",
              "        toinsert[toinsert.length - 1].firstChild.textContent = bk_div.children[0].textContent\n",
              "      }\n",
              "      // store reference to server id on output_area\n",
              "      output_area._bokeh_server_id = output.metadata[EXEC_MIME_TYPE][\"server_id\"];\n",
              "    }\n",
              "  }\n",
              "\n",
              "  function register_renderer(events, OutputArea) {\n",
              "\n",
              "    function append_mime(data, metadata, element) {\n",
              "      // create a DOM node to render to\n",
              "      var toinsert = this.create_output_subarea(\n",
              "        metadata,\n",
              "        CLASS_NAME,\n",
              "        EXEC_MIME_TYPE\n",
              "      );\n",
              "      this.keyboard_manager.register_events(toinsert);\n",
              "      // Render to node\n",
              "      var props = {data: data, metadata: metadata[EXEC_MIME_TYPE]};\n",
              "      render(props, toinsert[toinsert.length - 1]);\n",
              "      element.append(toinsert);\n",
              "      return toinsert\n",
              "    }\n",
              "\n",
              "    /* Handle when an output is cleared or removed */\n",
              "    events.on('clear_output.CodeCell', handleClearOutput);\n",
              "    events.on('delete.Cell', handleClearOutput);\n",
              "\n",
              "    /* Handle when a new output is added */\n",
              "    events.on('output_added.OutputArea', handleAddOutput);\n",
              "\n",
              "    /**\n",
              "     * Register the mime type and append_mime function with output_area\n",
              "     */\n",
              "    OutputArea.prototype.register_mime_type(EXEC_MIME_TYPE, append_mime, {\n",
              "      /* Is output safe? */\n",
              "      safe: true,\n",
              "      /* Index of renderer in `output_area.display_order` */\n",
              "      index: 0\n",
              "    });\n",
              "  }\n",
              "\n",
              "  // register the mime type if in Jupyter Notebook environment and previously unregistered\n",
              "  if (root.Jupyter !== undefined) {\n",
              "    var events = require('base/js/events');\n",
              "    var OutputArea = require('notebook/js/outputarea').OutputArea;\n",
              "\n",
              "    if (OutputArea.prototype.mime_types().indexOf(EXEC_MIME_TYPE) == -1) {\n",
              "      register_renderer(events, OutputArea);\n",
              "    }\n",
              "  }\n",
              "\n",
              "  \n",
              "  if (typeof (root._bokeh_timeout) === \"undefined\" || force === true) {\n",
              "    root._bokeh_timeout = Date.now() + 5000;\n",
              "    root._bokeh_failed_load = false;\n",
              "  }\n",
              "\n",
              "  var NB_LOAD_WARNING = {'data': {'text/html':\n",
              "     \"<div style='background-color: #fdd'>\\n\"+\n",
              "     \"<p>\\n\"+\n",
              "     \"BokehJS does not appear to have successfully loaded. If loading BokehJS from CDN, this \\n\"+\n",
              "     \"may be due to a slow or bad network connection. Possible fixes:\\n\"+\n",
              "     \"</p>\\n\"+\n",
              "     \"<ul>\\n\"+\n",
              "     \"<li>re-rerun `output_notebook()` to attempt to load from CDN again, or</li>\\n\"+\n",
              "     \"<li>use INLINE resources instead, as so:</li>\\n\"+\n",
              "     \"</ul>\\n\"+\n",
              "     \"<code>\\n\"+\n",
              "     \"from bokeh.resources import INLINE\\n\"+\n",
              "     \"output_notebook(resources=INLINE)\\n\"+\n",
              "     \"</code>\\n\"+\n",
              "     \"</div>\"}};\n",
              "\n",
              "  function display_loaded() {\n",
              "    var el = document.getElementById(null);\n",
              "    if (el != null) {\n",
              "      el.textContent = \"BokehJS is loading...\";\n",
              "    }\n",
              "    if (root.Bokeh !== undefined) {\n",
              "      if (el != null) {\n",
              "        el.textContent = \"BokehJS \" + root.Bokeh.version + \" successfully loaded.\";\n",
              "      }\n",
              "    } else if (Date.now() < root._bokeh_timeout) {\n",
              "      setTimeout(display_loaded, 100)\n",
              "    }\n",
              "  }\n",
              "\n",
              "\n",
              "  function run_callbacks() {\n",
              "    try {\n",
              "      root._bokeh_onload_callbacks.forEach(function(callback) {\n",
              "        if (callback != null)\n",
              "          callback();\n",
              "      });\n",
              "    } finally {\n",
              "      delete root._bokeh_onload_callbacks\n",
              "    }\n",
              "    console.debug(\"Bokeh: all callbacks have finished\");\n",
              "  }\n",
              "\n",
              "  function load_libs(css_urls, js_urls, callback) {\n",
              "    if (css_urls == null) css_urls = [];\n",
              "    if (js_urls == null) js_urls = [];\n",
              "\n",
              "    root._bokeh_onload_callbacks.push(callback);\n",
              "    if (root._bokeh_is_loading > 0) {\n",
              "      console.debug(\"Bokeh: BokehJS is being loaded, scheduling callback at\", now());\n",
              "      return null;\n",
              "    }\n",
              "    if (js_urls == null || js_urls.length === 0) {\n",
              "      run_callbacks();\n",
              "      return null;\n",
              "    }\n",
              "    console.debug(\"Bokeh: BokehJS not loaded, scheduling load and callback at\", now());\n",
              "    root._bokeh_is_loading = css_urls.length + js_urls.length;\n",
              "\n",
              "    function on_load() {\n",
              "      root._bokeh_is_loading--;\n",
              "      if (root._bokeh_is_loading === 0) {\n",
              "        console.debug(\"Bokeh: all BokehJS libraries/stylesheets loaded\");\n",
              "        run_callbacks()\n",
              "      }\n",
              "    }\n",
              "\n",
              "    function on_error(url) {\n",
              "      console.error(\"failed to load \" + url);\n",
              "    }\n",
              "\n",
              "    for (let i = 0; i < css_urls.length; i++) {\n",
              "      const url = css_urls[i];\n",
              "      const element = document.createElement(\"link\");\n",
              "      element.onload = on_load;\n",
              "      element.onerror = on_error.bind(null, url);\n",
              "      element.rel = \"stylesheet\";\n",
              "      element.type = \"text/css\";\n",
              "      element.href = url;\n",
              "      console.debug(\"Bokeh: injecting link tag for BokehJS stylesheet: \", url);\n",
              "      document.body.appendChild(element);\n",
              "    }\n",
              "\n",
              "    const hashes = {\"https://cdn.bokeh.org/bokeh/release/bokeh-2.3.2.min.js\": \"XypntL49z55iwGVUW4qsEu83zKL3XEcz0MjuGOQ9SlaaQ68X/g+k1FcioZi7oQAc\", \"https://cdn.bokeh.org/bokeh/release/bokeh-tables-2.3.2.min.js\": \"bEsM86IHGDTLCS0Zod8a8WM6Y4+lafAL/eSiyQcuPzinmWNgNO2/olUF0Z2Dkn5i\", \"https://cdn.bokeh.org/bokeh/release/bokeh-widgets-2.3.2.min.js\": \"TX0gSQTdXTTeScqxj6PVQxTiRW8DOoGVwinyi1D3kxv7wuxQ02XkOxv0xwiypcAH\"};\n",
              "\n",
              "    for (let i = 0; i < js_urls.length; i++) {\n",
              "      const url = js_urls[i];\n",
              "      const element = document.createElement('script');\n",
              "      element.onload = on_load;\n",
              "      element.onerror = on_error.bind(null, url);\n",
              "      element.async = false;\n",
              "      element.src = url;\n",
              "      if (url in hashes) {\n",
              "        element.crossOrigin = \"anonymous\";\n",
              "        element.integrity = \"sha384-\" + hashes[url];\n",
              "      }\n",
              "      console.debug(\"Bokeh: injecting script tag for BokehJS library: \", url);\n",
              "      document.head.appendChild(element);\n",
              "    }\n",
              "  };\n",
              "\n",
              "  function inject_raw_css(css) {\n",
              "    const element = document.createElement(\"style\");\n",
              "    element.appendChild(document.createTextNode(css));\n",
              "    document.body.appendChild(element);\n",
              "  }\n",
              "\n",
              "  \n",
              "  var js_urls = [\"https://cdn.bokeh.org/bokeh/release/bokeh-2.3.2.min.js\", \"https://cdn.bokeh.org/bokeh/release/bokeh-widgets-2.3.2.min.js\", \"https://cdn.bokeh.org/bokeh/release/bokeh-tables-2.3.2.min.js\"];\n",
              "  var css_urls = [];\n",
              "  \n",
              "\n",
              "  var inline_js = [\n",
              "    function(Bokeh) {\n",
              "      Bokeh.set_log_level(\"info\");\n",
              "    },\n",
              "    function(Bokeh) {\n",
              "    \n",
              "    \n",
              "    }\n",
              "  ];\n",
              "\n",
              "  function run_inline_js() {\n",
              "    \n",
              "    if (root.Bokeh !== undefined || force === true) {\n",
              "      \n",
              "    for (var i = 0; i < inline_js.length; i++) {\n",
              "      inline_js[i].call(root, root.Bokeh);\n",
              "    }\n",
              "    } else if (Date.now() < root._bokeh_timeout) {\n",
              "      setTimeout(run_inline_js, 100);\n",
              "    } else if (!root._bokeh_failed_load) {\n",
              "      console.log(\"Bokeh: BokehJS failed to load within specified timeout.\");\n",
              "      root._bokeh_failed_load = true;\n",
              "    } else if (force !== true) {\n",
              "      var cell = $(document.getElementById(null)).parents('.cell').data().cell;\n",
              "      cell.output_area.append_execute_result(NB_LOAD_WARNING)\n",
              "    }\n",
              "\n",
              "  }\n",
              "\n",
              "  if (root._bokeh_is_loading === 0) {\n",
              "    console.debug(\"Bokeh: BokehJS loaded, going straight to plotting\");\n",
              "    run_inline_js();\n",
              "  } else {\n",
              "    load_libs(css_urls, js_urls, function() {\n",
              "      console.debug(\"Bokeh: BokehJS plotting callback run at\", now());\n",
              "      run_inline_js();\n",
              "    });\n",
              "  }\n",
              "}(window));"
            ],
            "application/vnd.bokehjs_load.v0+json": "\n(function(root) {\n  function now() {\n    return new Date();\n  }\n\n  var force = true;\n\n  if (typeof root._bokeh_onload_callbacks === \"undefined\" || force === true) {\n    root._bokeh_onload_callbacks = [];\n    root._bokeh_is_loading = undefined;\n  }\n\n  \n\n  \n  if (typeof (root._bokeh_timeout) === \"undefined\" || force === true) {\n    root._bokeh_timeout = Date.now() + 5000;\n    root._bokeh_failed_load = false;\n  }\n\n  var NB_LOAD_WARNING = {'data': {'text/html':\n     \"<div style='background-color: #fdd'>\\n\"+\n     \"<p>\\n\"+\n     \"BokehJS does not appear to have successfully loaded. If loading BokehJS from CDN, this \\n\"+\n     \"may be due to a slow or bad network connection. Possible fixes:\\n\"+\n     \"</p>\\n\"+\n     \"<ul>\\n\"+\n     \"<li>re-rerun `output_notebook()` to attempt to load from CDN again, or</li>\\n\"+\n     \"<li>use INLINE resources instead, as so:</li>\\n\"+\n     \"</ul>\\n\"+\n     \"<code>\\n\"+\n     \"from bokeh.resources import INLINE\\n\"+\n     \"output_notebook(resources=INLINE)\\n\"+\n     \"</code>\\n\"+\n     \"</div>\"}};\n\n  function display_loaded() {\n    var el = document.getElementById(null);\n    if (el != null) {\n      el.textContent = \"BokehJS is loading...\";\n    }\n    if (root.Bokeh !== undefined) {\n      if (el != null) {\n        el.textContent = \"BokehJS \" + root.Bokeh.version + \" successfully loaded.\";\n      }\n    } else if (Date.now() < root._bokeh_timeout) {\n      setTimeout(display_loaded, 100)\n    }\n  }\n\n\n  function run_callbacks() {\n    try {\n      root._bokeh_onload_callbacks.forEach(function(callback) {\n        if (callback != null)\n          callback();\n      });\n    } finally {\n      delete root._bokeh_onload_callbacks\n    }\n    console.debug(\"Bokeh: all callbacks have finished\");\n  }\n\n  function load_libs(css_urls, js_urls, callback) {\n    if (css_urls == null) css_urls = [];\n    if (js_urls == null) js_urls = [];\n\n    root._bokeh_onload_callbacks.push(callback);\n    if (root._bokeh_is_loading > 0) {\n      console.debug(\"Bokeh: BokehJS is being loaded, scheduling callback at\", now());\n      return null;\n    }\n    if (js_urls == null || js_urls.length === 0) {\n      run_callbacks();\n      return null;\n    }\n    console.debug(\"Bokeh: BokehJS not loaded, scheduling load and callback at\", now());\n    root._bokeh_is_loading = css_urls.length + js_urls.length;\n\n    function on_load() {\n      root._bokeh_is_loading--;\n      if (root._bokeh_is_loading === 0) {\n        console.debug(\"Bokeh: all BokehJS libraries/stylesheets loaded\");\n        run_callbacks()\n      }\n    }\n\n    function on_error(url) {\n      console.error(\"failed to load \" + url);\n    }\n\n    for (let i = 0; i < css_urls.length; i++) {\n      const url = css_urls[i];\n      const element = document.createElement(\"link\");\n      element.onload = on_load;\n      element.onerror = on_error.bind(null, url);\n      element.rel = \"stylesheet\";\n      element.type = \"text/css\";\n      element.href = url;\n      console.debug(\"Bokeh: injecting link tag for BokehJS stylesheet: \", url);\n      document.body.appendChild(element);\n    }\n\n    const hashes = {\"https://cdn.bokeh.org/bokeh/release/bokeh-2.3.2.min.js\": \"XypntL49z55iwGVUW4qsEu83zKL3XEcz0MjuGOQ9SlaaQ68X/g+k1FcioZi7oQAc\", \"https://cdn.bokeh.org/bokeh/release/bokeh-tables-2.3.2.min.js\": \"bEsM86IHGDTLCS0Zod8a8WM6Y4+lafAL/eSiyQcuPzinmWNgNO2/olUF0Z2Dkn5i\", \"https://cdn.bokeh.org/bokeh/release/bokeh-widgets-2.3.2.min.js\": \"TX0gSQTdXTTeScqxj6PVQxTiRW8DOoGVwinyi1D3kxv7wuxQ02XkOxv0xwiypcAH\"};\n\n    for (let i = 0; i < js_urls.length; i++) {\n      const url = js_urls[i];\n      const element = document.createElement('script');\n      element.onload = on_load;\n      element.onerror = on_error.bind(null, url);\n      element.async = false;\n      element.src = url;\n      if (url in hashes) {\n        element.crossOrigin = \"anonymous\";\n        element.integrity = \"sha384-\" + hashes[url];\n      }\n      console.debug(\"Bokeh: injecting script tag for BokehJS library: \", url);\n      document.head.appendChild(element);\n    }\n  };\n\n  function inject_raw_css(css) {\n    const element = document.createElement(\"style\");\n    element.appendChild(document.createTextNode(css));\n    document.body.appendChild(element);\n  }\n\n  \n  var js_urls = [\"https://cdn.bokeh.org/bokeh/release/bokeh-2.3.2.min.js\", \"https://cdn.bokeh.org/bokeh/release/bokeh-widgets-2.3.2.min.js\", \"https://cdn.bokeh.org/bokeh/release/bokeh-tables-2.3.2.min.js\"];\n  var css_urls = [];\n  \n\n  var inline_js = [\n    function(Bokeh) {\n      Bokeh.set_log_level(\"info\");\n    },\n    function(Bokeh) {\n    \n    \n    }\n  ];\n\n  function run_inline_js() {\n    \n    if (root.Bokeh !== undefined || force === true) {\n      \n    for (var i = 0; i < inline_js.length; i++) {\n      inline_js[i].call(root, root.Bokeh);\n    }\n    } else if (Date.now() < root._bokeh_timeout) {\n      setTimeout(run_inline_js, 100);\n    } else if (!root._bokeh_failed_load) {\n      console.log(\"Bokeh: BokehJS failed to load within specified timeout.\");\n      root._bokeh_failed_load = true;\n    } else if (force !== true) {\n      var cell = $(document.getElementById(null)).parents('.cell').data().cell;\n      cell.output_area.append_execute_result(NB_LOAD_WARNING)\n    }\n\n  }\n\n  if (root._bokeh_is_loading === 0) {\n    console.debug(\"Bokeh: BokehJS loaded, going straight to plotting\");\n    run_inline_js();\n  } else {\n    load_libs(css_urls, js_urls, function() {\n      console.debug(\"Bokeh: BokehJS plotting callback run at\", now());\n      run_inline_js();\n    });\n  }\n}(window));"
          },
          "metadata": {
            "tags": []
          }
        },
        {
          "output_type": "display_data",
          "data": {
            "text/html": [
              "\n",
              "\n",
              "\n",
              "\n",
              "\n",
              "\n",
              "  <div class=\"bk-root\" id=\"78c703c9-2af6-4931-b17d-8875a5048987\" data-root-id=\"1192\"></div>\n"
            ]
          },
          "metadata": {
            "tags": []
          }
        },
        {
          "output_type": "display_data",
          "data": {
            "application/javascript": [
              "(function(root) {\n",
              "  function embed_document(root) {\n",
              "    \n",
              "  var docs_json = {\"d8bacd8a-8420-46ed-870c-52a5764137b3\":{\"defs\":[],\"roots\":{\"references\":[{\"attributes\":{\"above\":[{\"id\":\"1203\"}],\"center\":[{\"id\":\"1206\"},{\"id\":\"1210\"}],\"height\":500,\"left\":[{\"id\":\"1207\"}],\"renderers\":[{\"id\":\"1221\"}],\"title\":{\"id\":\"1193\"},\"toolbar\":{\"id\":\"1214\"},\"width\":400,\"x_range\":{\"id\":\"1195\"},\"x_scale\":{\"id\":\"1199\"},\"y_range\":{\"id\":\"1197\"},\"y_scale\":{\"id\":\"1201\"}},\"id\":\"1192\",\"subtype\":\"Figure\",\"type\":\"Plot\"},{\"attributes\":{\"axis\":{\"id\":\"1203\"},\"ticker\":null},\"id\":\"1206\",\"type\":\"Grid\"},{\"attributes\":{},\"id\":\"1195\",\"type\":\"DataRange1d\"},{\"attributes\":{\"data\":{\"colors\":[\"purple\",\"blue\",\"orange\",\"gray\",\"orange\",\"orange\",\"red\",\"orange\",\"red\",\"red\",\"green\",\"red\",\"red\",\"red\",\"gray\",\"red\",\"orange\",\"red\",\"red\",\"red\",\"orange\",\"red\",\"red\",\"green\",\"blue\",\"red\",\"red\",\"red\",\"red\",\"blue\",\"red\",\"red\",\"orange\",\"orange\",\"red\",\"orange\",\"orange\",\"orange\",\"red\",\"red\",\"orange\",\"orange\",\"red\",\"red\",\"gray\",\"gray\",\"orange\",\"gray\",\"blue\",\"gray\",\"red\",\"red\",\"orange\",\"red\",\"purple\",\"orange\",\"red\",\"red\",\"red\",\"orange\",\"red\",\"blue\",\"orange\",\"red\",\"red\",\"orange\",\"orange\",\"red\",\"red\",\"red\",\"red\",\"blue\",\"orange\",\"red\",\"red\",\"red\",\"red\",\"red\",\"orange\",\"orange\",\"red\",\"red\",\"orange\",\"gray\",\"green\",\"orange\"],\"distilleries\":[\"GlenScotia\",\"Isle of Jura\",\"OldPulteney\",\"Bruichladdich\",\"Oban\",\"Tullibardine\",\"GlenDeveronMacduff\",\"GlenOrd\",\"GlenSpey\",\"Glenfiddich\",\"Glenkinchie\",\"Glenlivet\",\"Inchgower\",\"Linkwood\",\"Bowmore\",\"GlenElgin\",\"GlenGarioch\",\"Speyburn\",\"Benriach\",\"Tomintoul\",\"Teaninich\",\"Belvenie\",\"RoyalBrackla\",\"Bladnoch\",\"ArranIsleOf\",\"Tamdhu\",\"Strathisla\",\"Miltonduff\",\"Speyside\",\"Scapa\",\"Knochando\",\"Longmorn\",\"OldFettercairn\",\"Glengoyne\",\"Mannochmore\",\"Aberfeldy\",\"Edradour\",\"Ardmore\",\"GlenGrant\",\"Aultmore\",\"BlairAthol\",\"BenNevis\",\"Benrinnes\",\"Benromach\",\"Laphroig\",\"Caol Ila\",\"Clynelish\",\"Ardbeg\",\"Talisker\",\"Lagavulin\",\"Macallan\",\"GlenKeith\",\"RoyalLochnagar\",\"Auchroisk\",\"Springbank\",\"Tomatin\",\"Aberlour\",\"Mortlach\",\"Balmenach\",\"Glendronach\",\"Glenfarclas\",\"Highland Park\",\"Glenturret\",\"Glenrothes\",\"Dailuaine\",\"Dalmore\",\"Deanston\",\"Glendullan\",\"Tormore\",\"GlenMoray\",\"Dufftown\",\"Tobermory\",\"AnCnoc\",\"Tamnavulin\",\"Glenallachie\",\"Strathmill\",\"Craigallechie\",\"Cardhu\",\"Dalwhinnie\",\"Balblair\",\"Craigganmore\",\"Glenlossie\",\"Glenmorangie\",\"Bunnahabhain\",\"Auchentoshan\",\"Loch Lomond\"],\"regions\":[\"Campbelltown\",\"Islands\",\"Highlands\",\"Islay\",\"Highlands\",\"Highlands\",\"Speyside\",\"Highlands\",\"Speyside\",\"Speyside\",\"Lowlands\",\"Speyside\",\"Speyside\",\"Speyside\",\"Islay\",\"Speyside\",\"Highlands\",\"Speyside\",\"Speyside\",\"Speyside\",\"Highlands\",\"Speyside\",\"Speyside\",\"Lowlands\",\"Islands\",\"Speyside\",\"Speyside\",\"Speyside\",\"Speyside\",\"Islands\",\"Speyside\",\"Speyside\",\"Highlands\",\"Highlands\",\"Speyside\",\"Highlands\",\"Highlands\",\"Highlands\",\"Speyside\",\"Speyside\",\"Highlands\",\"Highlands\",\"Speyside\",\"Speyside\",\"Islay\",\"Islay\",\"Highlands\",\"Islay\",\"Islands\",\"Islay\",\"Speyside\",\"Speyside\",\"Highlands\",\"Speyside\",\"Campbelltown\",\"Highlands\",\"Speyside\",\"Speyside\",\"Speyside\",\"Highlands\",\"Speyside\",\"Islands\",\"Highlands\",\"Speyside\",\"Speyside\",\"Highlands\",\"Highlands\",\"Speyside\",\"Speyside\",\"Speyside\",\"Speyside\",\"Islands\",\"Highlands\",\"Speyside\",\"Speyside\",\"Speyside\",\"Speyside\",\"Speyside\",\"Highlands\",\"Highlands\",\"Speyside\",\"Speyside\",\"Highlands\",\"Islay\",\"Lowlands\",\"Highlands\"],\"x\":[172090,152660,336730,126680,185940,289690,372120,251810,327760,332680,344380,319560,342610,322640,131330,322640,381020,326930,323450,315100,265360,332680,286040,242260,194050,319210,340754,322640,278740,342850,319470,322640,370860,252810,322640,286580,295960,355350,327610,340754,294860,212600,325800,303330,138680,142920,290250,141560,137950,140430,327710,340754,326140,340754,172280,279120,326340,332950,307750,361200,320950,345340,285630,327650,323520,266610,271570,333000,315180,319820,332360,150450,352960,321180,326490,342650,328920,318790,263670,270820,316600,322640,276750,142210,247670,239370],\"y\":[621010,667040,950130,661400,730190,708850,860400,850860,849140,840840,666690,828780,863970,861040,659720,861040,827590,851430,858380,825560,869120,840840,851320,554260,649950,841760,848623,861040,800600,1008930,841570,861040,772900,682750,861040,749680,757940,829140,849570,848623,757580,775710,839920,859350,645160,670040,904230,646220,831770,645730,844480,848623,794370,848623,620910,829630,842570,839850,827170,844930,838160,1009260,723580,849170,841010,868730,701570,840300,834960,862320,839200,755070,839320,826110,841240,850500,844920,843090,785270,885770,836370,861040,883450,673170,672610,680920]},\"selected\":{\"id\":\"1231\"},\"selection_policy\":{\"id\":\"1230\"}},\"id\":\"1191\",\"type\":\"ColumnDataSource\"},{\"attributes\":{},\"id\":\"1228\",\"type\":\"AllLabels\"},{\"attributes\":{},\"id\":\"1213\",\"type\":\"SaveTool\"},{\"attributes\":{},\"id\":\"1230\",\"type\":\"UnionRenderers\"},{\"attributes\":{\"axis\":{\"id\":\"1207\"},\"dimension\":1,\"ticker\":null},\"id\":\"1210\",\"type\":\"Grid\"},{\"attributes\":{},\"id\":\"1199\",\"type\":\"LinearScale\"},{\"attributes\":{\"active_multi\":null,\"tools\":[{\"id\":\"1211\"},{\"id\":\"1212\"},{\"id\":\"1213\"}]},\"id\":\"1214\",\"type\":\"Toolbar\"},{\"attributes\":{\"fill_color\":{\"field\":\"colors\"},\"line_color\":{\"value\":null},\"size\":{\"value\":9},\"x\":{\"field\":\"x\"},\"y\":{\"field\":\"y\"}},\"id\":\"1219\",\"type\":\"Circle\"},{\"attributes\":{\"formatter\":{\"id\":\"1226\"},\"major_label_policy\":{\"id\":\"1225\"},\"ticker\":{\"id\":\"1208\"}},\"id\":\"1207\",\"type\":\"LinearAxis\"},{\"attributes\":{\"callback\":null,\"tooltips\":[[\"Distillery\",\"@distilleries\"],[\"Location\",\"(@x, @y)\"]]},\"id\":\"1212\",\"type\":\"HoverTool\"},{\"attributes\":{\"source\":{\"id\":\"1191\"}},\"id\":\"1222\",\"type\":\"CDSView\"},{\"attributes\":{},\"id\":\"1204\",\"type\":\"BasicTicker\"},{\"attributes\":{},\"id\":\"1231\",\"type\":\"Selection\"},{\"attributes\":{\"data_source\":{\"id\":\"1191\"},\"glyph\":{\"id\":\"1219\"},\"hover_glyph\":null,\"muted_glyph\":null,\"nonselection_glyph\":{\"id\":\"1220\"},\"view\":{\"id\":\"1222\"}},\"id\":\"1221\",\"type\":\"GlyphRenderer\"},{\"attributes\":{},\"id\":\"1226\",\"type\":\"BasicTickFormatter\"},{\"attributes\":{},\"id\":\"1201\",\"type\":\"LinearScale\"},{\"attributes\":{\"text\":\"Whisky Locations and Regions\"},\"id\":\"1193\",\"type\":\"Title\"},{\"attributes\":{},\"id\":\"1225\",\"type\":\"AllLabels\"},{\"attributes\":{},\"id\":\"1211\",\"type\":\"ResetTool\"},{\"attributes\":{},\"id\":\"1229\",\"type\":\"BasicTickFormatter\"},{\"attributes\":{},\"id\":\"1208\",\"type\":\"BasicTicker\"},{\"attributes\":{\"fill_alpha\":{\"value\":0.1},\"fill_color\":{\"field\":\"colors\"},\"line_alpha\":{\"value\":0.1},\"line_color\":{\"value\":null},\"size\":{\"value\":9},\"x\":{\"field\":\"x\"},\"y\":{\"field\":\"y\"}},\"id\":\"1220\",\"type\":\"Circle\"},{\"attributes\":{},\"id\":\"1197\",\"type\":\"DataRange1d\"},{\"attributes\":{\"formatter\":{\"id\":\"1229\"},\"major_label_orientation\":1.0471975511965976,\"major_label_policy\":{\"id\":\"1228\"},\"ticker\":{\"id\":\"1204\"}},\"id\":\"1203\",\"type\":\"LinearAxis\"}],\"root_ids\":[\"1192\"]},\"title\":\"Bokeh Application\",\"version\":\"2.3.2\"}};\n",
              "  var render_items = [{\"docid\":\"d8bacd8a-8420-46ed-870c-52a5764137b3\",\"root_ids\":[\"1192\"],\"roots\":{\"1192\":\"78c703c9-2af6-4931-b17d-8875a5048987\"}}];\n",
              "  root.Bokeh.embed.embed_items_notebook(docs_json, render_items);\n",
              "\n",
              "  }\n",
              "  if (root.Bokeh !== undefined) {\n",
              "    embed_document(root);\n",
              "  } else {\n",
              "    var attempts = 0;\n",
              "    var timer = setInterval(function(root) {\n",
              "      if (root.Bokeh !== undefined) {\n",
              "        clearInterval(timer);\n",
              "        embed_document(root);\n",
              "      } else {\n",
              "        attempts++;\n",
              "        if (attempts > 100) {\n",
              "          clearInterval(timer);\n",
              "          console.log(\"Bokeh: ERROR: Unable to run BokehJS code because BokehJS library is missing\");\n",
              "        }\n",
              "      }\n",
              "    }, 10, root)\n",
              "  }\n",
              "})(window);"
            ],
            "application/vnd.bokehjs_exec.v0+json": ""
          },
          "metadata": {
            "tags": [],
            "application/vnd.bokehjs_exec.v0+json": {
              "id": "1192"
            }
          }
        }
      ]
    },
    {
      "cell_type": "code",
      "metadata": {
        "colab": {
          "base_uri": "https://localhost:8080/"
        },
        "id": "CuCTFhMI1QVc",
        "outputId": "a643301c-fb58-4bcf-f6d7-85daf973f70c"
      },
      "source": [
        "distilleries"
      ],
      "execution_count": null,
      "outputs": [
        {
          "output_type": "execute_result",
          "data": {
            "text/plain": [
              "['GlenScotia',\n",
              " 'Isle of Jura',\n",
              " 'OldPulteney',\n",
              " 'Bruichladdich',\n",
              " 'Oban',\n",
              " 'Tullibardine',\n",
              " 'GlenDeveronMacduff',\n",
              " 'GlenOrd',\n",
              " 'GlenSpey',\n",
              " 'Glenfiddich',\n",
              " 'Glenkinchie',\n",
              " 'Glenlivet',\n",
              " 'Inchgower',\n",
              " 'Linkwood',\n",
              " 'Bowmore',\n",
              " 'GlenElgin',\n",
              " 'GlenGarioch',\n",
              " 'Speyburn',\n",
              " 'Benriach',\n",
              " 'Tomintoul',\n",
              " 'Teaninich',\n",
              " 'Belvenie',\n",
              " 'RoyalBrackla',\n",
              " 'Bladnoch',\n",
              " 'ArranIsleOf',\n",
              " 'Tamdhu',\n",
              " 'Strathisla',\n",
              " 'Miltonduff',\n",
              " 'Speyside',\n",
              " 'Scapa',\n",
              " 'Knochando',\n",
              " 'Longmorn',\n",
              " 'OldFettercairn',\n",
              " 'Glengoyne',\n",
              " 'Mannochmore',\n",
              " 'Aberfeldy',\n",
              " 'Edradour',\n",
              " 'Ardmore',\n",
              " 'GlenGrant',\n",
              " 'Aultmore',\n",
              " 'BlairAthol',\n",
              " 'BenNevis',\n",
              " 'Benrinnes',\n",
              " 'Benromach',\n",
              " 'Laphroig',\n",
              " 'Caol Ila',\n",
              " 'Clynelish',\n",
              " 'Ardbeg',\n",
              " 'Talisker',\n",
              " 'Lagavulin',\n",
              " 'Macallan',\n",
              " 'GlenKeith',\n",
              " 'RoyalLochnagar',\n",
              " 'Auchroisk',\n",
              " 'Springbank',\n",
              " 'Tomatin',\n",
              " 'Aberlour',\n",
              " 'Mortlach',\n",
              " 'Balmenach',\n",
              " 'Glendronach',\n",
              " 'Glenfarclas',\n",
              " 'Highland Park',\n",
              " 'Glenturret',\n",
              " 'Glenrothes',\n",
              " 'Dailuaine',\n",
              " 'Dalmore',\n",
              " 'Deanston',\n",
              " 'Glendullan',\n",
              " 'Tormore',\n",
              " 'GlenMoray',\n",
              " 'Dufftown',\n",
              " 'Tobermory',\n",
              " 'AnCnoc',\n",
              " 'Tamnavulin',\n",
              " 'Glenallachie',\n",
              " 'Strathmill',\n",
              " 'Craigallechie',\n",
              " 'Cardhu',\n",
              " 'Dalwhinnie',\n",
              " 'Balblair',\n",
              " 'Craigganmore',\n",
              " 'Glenlossie',\n",
              " 'Glenmorangie',\n",
              " 'Bunnahabhain',\n",
              " 'Auchentoshan',\n",
              " 'Loch Lomond']"
            ]
          },
          "metadata": {
            "tags": []
          },
          "execution_count": 34
        }
      ]
    }
  ]
}